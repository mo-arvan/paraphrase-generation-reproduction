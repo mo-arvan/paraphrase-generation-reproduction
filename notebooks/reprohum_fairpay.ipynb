{
  "nbformat": 4,
  "nbformat_minor": 0,
  "metadata": {
    "colab": {
      "provenance": []
    },
    "kernelspec": {
      "name": "python3",
      "display_name": "Python 3"
    },
    "language_info": {
      "name": "python"
    }
  },
  "cells": [
    {
      "cell_type": "markdown",
      "source": [
        "# ReproHum Fair Pay\n",
        "<a target=\"_blank\" href=\"https://colab.research.google.com/github/mo-arvan/paraphrase-generation-reproduction/blob/main/notebooks/reprohum_fairpay.ipynb\">\n",
        "  <img src=\"https://colab.research.google.com/assets/colab-badge.svg\" alt=\"Open In Colab\"/>\n",
        "</a>\n",
        "\n",
        "All values are in USD.\n",
        "\n",
        "We will try to scale the original study wage based on the minimum wage at the time.\n",
        "If the value is lower than UK living wage, we use that instead."
      ],
      "metadata": {
        "id": "jGJdXHHHnFuD"
      }
    },
    {
      "cell_type": "code",
      "source": [
        "local_min_wage = 13.00 #"
      ],
      "metadata": {
        "id": "lCWmk4XjuaL_"
      },
      "execution_count": 26,
      "outputs": []
    },
    {
      "cell_type": "code",
      "source": [
        "GBD_to_USD_nov_15_2021 = 1.34053\n",
        "original_study_wage = 10.5 # USD\n",
        "original_study_min_wage_us = 7.25 # USD, source: https://www.dol.gov/agencies/whd/compliance-assistance/handy-reference-guide-flsa#1\n",
        "original_study_min_wage_uk = 8.91 * GBD_to_USD_nov_15_2021 # source: https://www.gov.uk/national-minimum-wage-rates\n",
        "\n",
        "mutiplier_dict = {}\n",
        "mutiplier_dict[\"US Min Wage\"] = max(1, (original_study_wage / original_study_min_wage_us))\n",
        "mutiplier_dict[\"UK Min Wage\"] = max(1, (original_study_wage / original_study_min_wage_uk))\n"
      ],
      "metadata": {
        "id": "4OmbVtAJubPY"
      },
      "execution_count": 33,
      "outputs": []
    },
    {
      "cell_type": "code",
      "source": [
        "GBD_to_USD_nov_7_2023 = 1.23789\n",
        "uk_living_wage = 10.42 * GBD_to_USD_nov_7_2023 # source: https://www.gov.uk/national-minimum-wage-rates\n"
      ],
      "metadata": {
        "id": "SIf7rqoxuwqb"
      },
      "execution_count": 28,
      "outputs": []
    },
    {
      "cell_type": "code",
      "source": [
        "for name, multiplier in mutiplier_dict.items():\n",
        "    scaled_wage = local_min_wage * multiplier #\n",
        "\n",
        "    reproduction_wage = max(scaled_wage, uk_living_wage)\n",
        "    wage_per_task = round(reproduction_wage / 3, 2)\n",
        "\n",
        "    print(f\"Based on {name}\")\n",
        "    print(f'\\t wage per task ${wage_per_task}')\n",
        "    print(f'\\t hourly wage: ${wage_per_task * 3}')\n",
        "    print(f'\\t reproduction cost: ${wage_per_task * 3 * 60}') # 60 tasks, each given 3 times\n",
        "\n",
        "\n"
      ],
      "metadata": {
        "colab": {
          "base_uri": "https://localhost:8080/"
        },
        "id": "1s710V2jude7",
        "outputId": "cb72676d-c1f2-47da-81db-e1271e788944"
      },
      "execution_count": 39,
      "outputs": [
        {
          "output_type": "stream",
          "name": "stdout",
          "text": [
            "Based on US Min Wage\n",
            "\t wage per task $6.28\n",
            "\t hourly wage: $18.84\n",
            "\t reproduction cost: $5652.0\n",
            "Based on UK Min Wage\n",
            "\t wage per task $4.33\n",
            "\t hourly wage: $12.99\n",
            "\t reproduction cost: $3897.0\n"
          ]
        }
      ]
    }
  ]
}