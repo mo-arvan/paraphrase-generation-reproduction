{
  "nbformat": 4,
  "nbformat_minor": 0,
  "metadata": {
    "colab": {
      "provenance": []
    },
    "kernelspec": {
      "name": "python3",
      "display_name": "Python 3"
    },
    "language_info": {
      "name": "python"
    }
  },
  "cells": [
    {
      "cell_type": "markdown",
      "source": [
        "# ReproHum Fair Pay\n",
        "<a target=\"_blank\" href=\"https://colab.research.google.com/github/mo-arvan/paraphrase-generation-reproduction/blob/main/notebooks/reprohum_fairpay.ipynb\">\n",
        "  <img src=\"https://colab.research.google.com/assets/colab-badge.svg\" alt=\"Open In Colab\"/>\n",
        "</a>\n",
        "\n",
        "All values are in GBD.\n",
        "\n",
        "We will try to scale the original study wage based on the minimum wage at the time.\n",
        "If the value is lower than UK living wage, we use that instead."
      ],
      "metadata": {
        "id": "jGJdXHHHnFuD"
      }
    },
    {
      "cell_type": "code",
      "source": [
        "USD_to_GBD_feb_9_2024 = 0.79237\n",
        "\n",
        "local_min_wage = 14.00 * USD_to_GBD_feb_9_2024 # https://labor.illinois.gov/laws-rules/fls/minimum-wage-law.html"
      ],
      "metadata": {
        "id": "lCWmk4XjuaL_"
      },
      "execution_count": 7,
      "outputs": []
    },
    {
      "cell_type": "code",
      "source": [
        "GBD_to_USD_nov_15_2021 = 1.34053\n",
        "USD_to_GBD_nov_15_2021 = 0.74517\n",
        "original_study_wage = 10.5 * USD_to_GBD_nov_15_2021 # USD\n",
        "original_study_min_wage = 9.9  # source: https://www.statista.com/statistics/280076/uk-living-wage/\n",
        "\n",
        "multiplier = max(1, (original_study_wage / original_study_min_wage))"
      ],
      "metadata": {
        "id": "4OmbVtAJubPY"
      },
      "execution_count": 8,
      "outputs": []
    },
    {
      "cell_type": "code",
      "source": [
        "#GBD_to_USD_feb_9_2024 = 1.26183 # https://www.oanda.com/currency-converter/en/?from=GBP&to=USD&amount=1\n",
        "uk_living_wage = 12  # source: https://www.livingwage.org.uk/"
      ],
      "metadata": {
        "id": "SIf7rqoxuwqb"
      },
      "execution_count": 9,
      "outputs": []
    },
    {
      "cell_type": "code",
      "source": [
        "from math import ceil\n",
        "def round_up(n, factor=100):\n",
        "    return ceil(n * factor) / factor\n",
        "\n",
        "scaled_wage = local_min_wage * multiplier #\n",
        "\n",
        "reproduction_wage = max(scaled_wage, uk_living_wage)\n",
        "\n",
        "estimated_task_minutes = 8\n",
        "wage_per_task = round_up(reproduction_wage * estimated_task_minutes/ 60)\n",
        "\n",
        "print(f'wage per task £{wage_per_task:0.2f}')\n",
        "print(f'hourly wage: £{wage_per_task * 3:0.2f}')\n",
        "print(f'reproduction cost: £{wage_per_task * 3 * 60:0.2f}') # 60 tasks, each given 3 times\n",
        "\n",
        "\n"
      ],
      "metadata": {
        "colab": {
          "base_uri": "https://localhost:8080/"
        },
        "id": "1s710V2jude7",
        "outputId": "bca55320-948d-4258-914e-2827730e064c"
      },
      "execution_count": 10,
      "outputs": [
        {
          "output_type": "stream",
          "name": "stdout",
          "text": [
            "wage per task £1.60\n",
            "hourly wage: £4.80\n",
            "reproduction cost: £288.00\n"
          ]
        }
      ]
    }
  ]
}